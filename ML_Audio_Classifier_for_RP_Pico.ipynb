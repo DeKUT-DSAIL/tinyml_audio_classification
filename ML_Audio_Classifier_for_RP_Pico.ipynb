{
  "nbformat": 4,
  "nbformat_minor": 0,
  "metadata": {
    "colab": {
      "name": "ML Audio Classifier for RP Pico.ipynb",
      "provenance": []
    },
    "kernelspec": {
      "name": "python3",
      "display_name": "Python 3"
    },
    "language_info": {
      "name": "python"
    }
  },
  "cells": [
    {
      "cell_type": "markdown",
      "metadata": {
        "id": "m174xspUl7LC"
      },
      "source": [
        "# ML Audio Classifier Example for Pico\n",
        "\n",
        "Originally authored by: [Sandeep Mistry](https://twitter.com/sandeepmistry), [Henri Woodcock](https://twitter.com/henriwoodcock) from the [Arm Software Developers team](https://twitter.com/armsoftwaredev)\n"
      ]
    },
    {
      "cell_type": "markdown",
      "metadata": {
        "id": "n1-rsj4vchBC"
      },
      "source": [
        "### Project Files\n",
        "\n",
        "The source code for the inference application and Python utilities for Google Colab can also be cloned using `git`:"
      ]
    },
    {
      "cell_type": "code",
      "metadata": {
        "id": "-jDNNonWcyAL",
        "colab": {
          "base_uri": "https://localhost:8080/"
        },
        "outputId": "750cfe5f-ebec-485c-a278-775d94bff210"
      },
      "source": [
        "%%shell\n",
        "git clone --recurse-submodules https://github.com/ArmDeveloperEcosystem/ml-audio-classifier-example-for-pico.git"
      ],
      "execution_count": 1,
      "outputs": [
        {
          "output_type": "stream",
          "name": "stdout",
          "text": [
            "Cloning into 'ml-audio-classifier-example-for-pico'...\n",
            "remote: Enumerating objects: 121, done.\u001b[K\n",
            "remote: Counting objects: 100% (121/121), done.\u001b[K\n",
            "remote: Compressing objects: 100% (93/93), done.\u001b[K\n",
            "remote: Total 121 (delta 38), reused 100 (delta 26), pack-reused 0\u001b[K\n",
            "Receiving objects: 100% (121/121), 43.04 MiB | 24.46 MiB/s, done.\n",
            "Resolving deltas: 100% (38/38), done.\n",
            "Submodule 'inference-app/lib/CMSIS_5' (https://github.com/ARM-software/CMSIS_5.git) registered for path 'inference-app/lib/CMSIS_5'\n",
            "Submodule 'inference-app/lib/microphone-library-for-pico' (https://github.com/ArmDeveloperEcosystem/microphone-library-for-pico.git) registered for path 'inference-app/lib/microphone-library-for-pico'\n",
            "Submodule 'inference-app/lib/pico-tflmicro' (https://github.com/raspberrypi/pico-tflmicro.git) registered for path 'inference-app/lib/pico-tflmicro'\n",
            "Cloning into '/content/ml-audio-classifier-example-for-pico/inference-app/lib/CMSIS_5'...\n",
            "remote: Enumerating objects: 6325, done.        \n",
            "remote: Counting objects: 100% (6325/6325), done.        \n",
            "remote: Compressing objects: 100% (4527/4527), done.        \n",
            "remote: Total 6325 (delta 2239), reused 4553 (delta 1589), pack-reused 0        \n",
            "Receiving objects: 100% (6325/6325), 39.36 MiB | 11.75 MiB/s, done.\n",
            "Resolving deltas: 100% (2239/2239), done.\n",
            "Cloning into '/content/ml-audio-classifier-example-for-pico/inference-app/lib/microphone-library-for-pico'...\n",
            "remote: Enumerating objects: 207, done.        \n",
            "remote: Counting objects: 100% (207/207), done.        \n",
            "remote: Compressing objects: 100% (100/100), done.        \n",
            "remote: Total 207 (delta 107), reused 190 (delta 95), pack-reused 0        \n",
            "Receiving objects: 100% (207/207), 51.13 KiB | 12.78 MiB/s, done.\n",
            "Resolving deltas: 100% (107/107), done.\n",
            "Cloning into '/content/ml-audio-classifier-example-for-pico/inference-app/lib/pico-tflmicro'...\n",
            "remote: Enumerating objects: 1178, done.        \n",
            "remote: Counting objects: 100% (1178/1178), done.        \n",
            "remote: Compressing objects: 100% (645/645), done.        \n",
            "remote: Total 1178 (delta 535), reused 1132 (delta 490), pack-reused 0        \n",
            "Receiving objects: 100% (1178/1178), 1.84 MiB | 7.02 MiB/s, done.\n",
            "Resolving deltas: 100% (535/535), done.\n",
            "remote: Enumerating objects: 71234, done.\u001b[K\n",
            "remote: Counting objects: 100% (71212/71212), done.\u001b[K\n",
            "remote: Compressing objects: 100% (15881/15881), done.\u001b[K\n",
            "remote: Total 68496 (delta 52347), reused 67080 (delta 51013), pack-reused 0\u001b[K\n",
            "Receiving objects: 100% (68496/68496), 202.52 MiB | 23.90 MiB/s, done.\n",
            "Resolving deltas: 100% (52347/52347), completed with 1097 local objects.\n",
            "From https://github.com/ARM-software/CMSIS_5\n",
            " * branch            13b9f72f212688d2306d0d085d87cbb4bf9e5d3f -> FETCH_HEAD\n",
            "Submodule path 'inference-app/lib/CMSIS_5': checked out '13b9f72f212688d2306d0d085d87cbb4bf9e5d3f'\n",
            "Submodule path 'inference-app/lib/microphone-library-for-pico': checked out '7d398aa671a873230871e41d0fd79c8505888d7f'\n",
            "Submodule path 'inference-app/lib/pico-tflmicro': checked out '6ff6387ed1fb3b721b0996583c4af8872980833b'\n"
          ]
        },
        {
          "output_type": "execute_result",
          "data": {
            "text/plain": [
              ""
            ]
          },
          "metadata": {},
          "execution_count": 1
        }
      ]
    },
    {
      "cell_type": "code",
      "metadata": {
        "colab": {
          "base_uri": "https://localhost:8080/"
        },
        "id": "putNtx2eFmAi",
        "outputId": "dfa1ae10-bfda-45c8-ef9d-d49c95b2837f"
      },
      "source": [
        "%%shell\n",
        "ln -s ml-audio-classifier-example-for-pico/colab_utils colab_utils\n",
        "ln -s ml-audio-classifier-example-for-pico/inference-app inference-app"
      ],
      "execution_count": 2,
      "outputs": [
        {
          "output_type": "execute_result",
          "data": {
            "text/plain": [
              ""
            ]
          },
          "metadata": {},
          "execution_count": 2
        }
      ]
    },
    {
      "cell_type": "markdown",
      "metadata": {
        "id": "exRvsfKz7JPR"
      },
      "source": [
        "## Deploy on Device"
      ]
    },
    {
      "cell_type": "markdown",
      "metadata": {
        "id": "WcWf2CCK_dst"
      },
      "source": [
        "#### Download `inference-app` and flash the bin file\n"
      ]
    },
    {
      "cell_type": "code",
      "metadata": {
        "colab": {
          "base_uri": "https://localhost:8080/",
          "height": 87
        },
        "id": "DofyWLn_EYpJ",
        "outputId": "57db0fde-2998-4464-a8de-d74d9511d8a4"
      },
      "source": [
        "import tensorflow as tf\n",
        "\n",
        "tf.keras.utils.get_file('inference-app.zip',\n",
        "                        'https://github.com/DeKUT-DSAIL/tinyml_audio_classification/raw/main/archive/model/inference-app.zip',\n",
        "                        cache_dir='./',\n",
        "                        cache_subdir='',\n",
        "                        extract=True)\n"
      ],
      "execution_count": 3,
      "outputs": [
        {
          "output_type": "stream",
          "name": "stdout",
          "text": [
            "Downloading data from https://github.com/DeKUT-DSAIL/tinyml_audio_classification/raw/main/archive/model/inference-app.zip\n",
            "13131776/13128759 [==============================] - 0s 0us/step\n",
            "13139968/13128759 [==============================] - 0s 0us/step\n"
          ]
        },
        {
          "output_type": "execute_result",
          "data": {
            "application/vnd.google.colaboratory.intrinsic+json": {
              "type": "string"
            },
            "text/plain": [
              "'./inference-app.zip'"
            ]
          },
          "metadata": {},
          "execution_count": 3
        }
      ]
    },
    {
      "cell_type": "markdown",
      "metadata": {
        "id": "8PIvWvzJABRb"
      },
      "source": [
        "#### Flash inferencing application to board\n",
        "\n",
        "You’ll need to put the board into USB boot ROM mode again to load the new application to it. If you are using a WebUSB API enabled browser like Google Chrome, you can directly flash the image onto the board from within Google Collab! Otherwise, you can manually download the .uf2 file to your computer and then drag it onto the USB disk for the RP2040 board.\n",
        "\n",
        "**Note for Windows**: If you are using Windows you must install WinUSB drivers in order to use WebUSB, you can do so by following the instructions found [here](https://github.com/ArmDeveloperEcosystem/ml-audio-classifier-example-for-pico/blob/main/windows.md).\n",
        "\n",
        "**Note for Linux**: If you are using Linux you must configure udev in order to use WebUSB, you can do so by following the instructions found [here](https://github.com/ArmDeveloperEcosystem/ml-audio-classifier-example-for-pico/blob/main/linux.md).\n",
        "\n",
        " * SparkFun MicroMod\n",
        "  * Plug the USB-C cable into the board and your PC to power the board\n",
        "  * While holding down the BOOT button on the board, tap the RESET button\n",
        "\n",
        " * Raspberry Pi Pico\n",
        "  * Plug the USB Micro cable into your PC, but do NOT plug in the Pico side.\n",
        "  * While holding down the white BOOTSEL button, plug in the micro USB cable to the Pico\n",
        "\n",
        "\n",
        "Then run the code cell below and click the \"flash\" button."
      ]
    },
    {
      "cell_type": "code",
      "metadata": {
        "colab": {
          "base_uri": "https://localhost:8080/",
          "height": 1000
        },
        "id": "CsWtAuAiAFYc",
        "outputId": "c30b7748-6687-4eba-b818-340cb920ab96"
      },
      "source": [
        "from colab_utils.pico import flash_pico\n",
        "\n",
        "flash_pico('content/inference-app/build/pico_inference_app.bin')"
      ],
      "execution_count": 4,
      "outputs": [
        {
          "output_type": "display_data",
          "data": {
            "application/javascript": [
              "\n",
              "    const picotoolJsScript = document.createElement(\"script\");\n",
              "\n",
              "    picotoolJsScript.src = \"https://armdeveloperecosystem.github.io/picotool.js/src/picotool.js\";\n",
              "    picotoolJsScript.type = \"text/javascript\";\n",
              "\n",
              "    document.body.append(picotoolJsScript);\n",
              "\n",
              "    async function readBinary() {\n",
              "      const result = await google.colab.kernel.invokeFunction('notebook.read_binary_base64', ['content/inference-app/build/pico_inference_app.bin']);\n",
              "      let str = result.data['text/plain'];\n",
              "\n",
              "      str = str.substring(1, str.length - 1);\n",
              "\n",
              "      return Uint8Array.from(atob(str), c => c.charCodeAt(0));\n",
              "    }\n",
              "\n",
              "    async function flashPico() {\n",
              "      statusDiv.innerHTML = '';\n",
              "\n",
              "      try {\n",
              "        statusDiv.innerHTML += \"requesting device ... <br/>\";\n",
              "        const usbDevice = await PicoTool.requestDevice();\n",
              "\n",
              "        const fileData = (await readBinary()).buffer;\n",
              "        const writeData = new ArrayBuffer(PicoTool.FLASH_SECTOR_ERASE_SIZE);\n",
              "    \n",
              "        const srcDataView = new DataView(fileData);\n",
              "        const dstDataView = new DataView(writeData);\n",
              "\n",
              "        const picoTool = new PicoTool(usbDevice);\n",
              "    \n",
              "        statusDiv.innerHTML += \"opening device ... <br/>\";\n",
              "        await picoTool.open();\n",
              "      \n",
              "        // statusDiv.innerHTML += \"reset ... <br/>\";\n",
              "        await picoTool.reset();\n",
              "      \n",
              "        // statusDiv.innerHTML += \"exlusive access device ... <br/>\";\n",
              "        await picoTool.exlusiveAccess(1);\n",
              "      \n",
              "        // statusDiv.innerHTML += \"exit xip ... <br/>\";\n",
              "        await picoTool.exitXip();\n",
              "\n",
              "        for (let i = 0; i < fileData.byteLength; i += PicoTool.FLASH_SECTOR_ERASE_SIZE) {\n",
              "          let j = 0;\n",
              "          for (j = 0; j < PicoTool.FLASH_SECTOR_ERASE_SIZE && (i + j) < fileData.byteLength; j++) {\n",
              "            dstDataView.setUint8(j, srcDataView.getUint8(i + j));\n",
              "          }\n",
              "\n",
              "          statusDiv.innerHTML += \"erasing ... \";\n",
              "          await picoTool.flashErase(PicoTool.FLASH_START + i, PicoTool.FLASH_SECTOR_ERASE_SIZE);\n",
              "\n",
              "          statusDiv.innerHTML += \"writing ... \";\n",
              "          await picoTool.write(PicoTool.FLASH_START + i, writeData);\n",
              "\n",
              "          statusDiv.innerHTML += \" \" + ((i + j) * 100 / fileData.byteLength).toFixed(2) + \"% <br/>\";\n",
              "        }\n",
              "\n",
              "        statusDiv.innerHTML += \"rebooting device ... <br/>\";\n",
              "        await picoTool.reboot(0, PicoTool.SRAM_END, 512);\n",
              "    \n",
              "        statusDiv.innerHTML += \"closing device ... <br/>\";\n",
              "        await picoTool.close();\n",
              "      } catch (e) {\n",
              "        statusDiv.innerHTML = 'Error: ' + e.message;\n",
              "      }\n",
              "    }\n",
              "\n",
              "    let statusDiv = undefined; \n",
              "\n",
              "    if ('usb' in navigator) {\n",
              "      const flashButton = document.createElement(\"button\");\n",
              "\n",
              "      flashButton.innerHTML = \"Flash\";\n",
              "      flashButton.onclick = flashPico;\n",
              "\n",
              "      document.querySelector(\"#output-area\").appendChild(flashButton);\n",
              "\n",
              "      statusDiv = document.createElement(\"div\");\n",
              "      statusDiv.style = \"margin: 5px\";\n",
              "\n",
              "      document.querySelector(\"#output-area\").appendChild(statusDiv);\n",
              "    } else {\n",
              "      document.querySelector(\"#output-area\").appendChild(document.createTextNode(\n",
              "        \"Oh no! Your browser does not support WebUSB!\"\n",
              "      ));\n",
              "    }\n",
              "  "
            ],
            "text/plain": [
              "<IPython.core.display.Javascript object>"
            ]
          },
          "metadata": {}
        }
      ]
    },
    {
      "cell_type": "markdown",
      "metadata": {
        "id": "0qFp9s1I0P7G"
      },
      "source": [
        "### Monitoring the Inference on the board\n",
        "\n",
        "\n",
        "Now that the inference application is running on the board you can observe it in action in two ways:\n",
        "\n",
        " 1. Visually by observing the brightness of the LED on the board. It should remain off or dim when no fire alarm sound is present - and be on when a fire alarm sound is present.\n",
        "\n",
        " 1. Connecting to the board’s USB serial port to view output from the inference application. If you are using a [Web Serial API](https://developer.mozilla.org/en-US/docs/Web/API/Web_Serial_API) enabled browser like Google Chrome, this can be done directly from Google Colab!\n"
      ]
    },
    {
      "cell_type": "markdown",
      "metadata": {
        "id": "w2ufVilt4BKU"
      },
      "source": [
        "#### Serial Monitor\n",
        "\n",
        "Run the code cell below and then click the \"Connect Port\" button to view the serial output from the board:"
      ]
    },
    {
      "cell_type": "code",
      "metadata": {
        "colab": {
          "base_uri": "https://localhost:8080/",
          "height": 456
        },
        "id": "RAvIj39m3fUa",
        "outputId": "c4509156-a184-484b-8dd2-5a515da8ab58"
      },
      "source": [
        "from colab_utils.serial_monitor import run_serial_monitor\n",
        "\n",
        "run_serial_monitor()"
      ],
      "execution_count": 5,
      "outputs": [
        {
          "output_type": "display_data",
          "data": {
            "application/javascript": [
              "\n",
              "    if ('serial' in navigator) {\n",
              "      const scriptElement = document.createElement(\"script\");\n",
              "      scriptElement.src = \"https://cdnjs.cloudflare.com/ajax/libs/xterm/3.14.5/xterm.min.js\";\n",
              "      document.body.appendChild(scriptElement);\n",
              "\n",
              "      const linkElement = document.createElement(\"link\");\n",
              "      linkElement.rel = \"stylesheet\"\n",
              "      linkElement.href = \"https://cdnjs.cloudflare.com/ajax/libs/xterm/3.14.5/xterm.min.css\";\n",
              "      document.body.appendChild(linkElement);\n",
              "\n",
              "      const connectDisconnectButton = document.createElement(\"button\");\n",
              "\n",
              "      connectDisconnectButton.innerHTML = \"Connect Port\";\n",
              "\n",
              "      document.querySelector(\"#output-area\").appendChild(connectDisconnectButton);\n",
              "\n",
              "      terminalDiv = document.createElement(\"div\");\n",
              "      terminalDiv.style = \"margin: 5px\";\n",
              "\n",
              "      document.querySelector(\"#output-area\").appendChild(terminalDiv);\n",
              "\n",
              "      let port = undefined;\n",
              "      let reader = undefined;\n",
              "      let keepReading = true;\n",
              "      let term = undefined;\n",
              "\n",
              "      connectDisconnectButton.onclick = async () => {\n",
              "        if (port !== undefined) {\n",
              "          if (reader !== undefined) {\n",
              "            keepReading = false;\n",
              "            try {\n",
              "              await reader.cancel();\n",
              "            } catch (e) {}\n",
              "          }\n",
              "          port = undefined;\n",
              "          reader = undefined;\n",
              "\n",
              "          connectDisconnectButton.innerHTML = \"Connect Port\";\n",
              "\n",
              "          return;\n",
              "        }\n",
              "\n",
              "        port = await navigator.serial.requestPort();\n",
              "        keepReading = true;\n",
              "\n",
              "        connectDisconnectButton.innerHTML = \"Disconnect Port\";\n",
              "        \n",
              "        await port.open({ baudRate: 115200 });\n",
              "\n",
              "        if (term === undefined) {\n",
              "          term = new Terminal();\n",
              "          term.open(terminalDiv);\n",
              "        }\n",
              "        term.clear();\n",
              "    \n",
              "        const decoder = new TextDecoder();\n",
              "\n",
              "        while (port && keepReading) {\n",
              "          try {\n",
              "            reader = port.readable.getReader();\n",
              "          \n",
              "            while (true) {\n",
              "              const { value, done } = await reader.read();\n",
              "              if (done) {\n",
              "                keepReading = false;\n",
              "                break;\n",
              "              }\n",
              "\n",
              "              term.write(decoder.decode(value, { stream: true }));\n",
              "            }\n",
              "          } catch (error) {\n",
              "            keepReading = false;\n",
              "          } finally {\n",
              "            await reader.releaseLock();\n",
              "          }\n",
              "        }\n",
              "        \n",
              "        await port.close();\n",
              "\n",
              "        port = undefined;\n",
              "        reader = undefined;\n",
              "\n",
              "        connectDisconnectButton.innerHTML = \"Connect Port\";\n",
              "      };\n",
              "    } else {\n",
              "      document.querySelector(\"#output-area\").appendChild(document.createTextNode(\n",
              "        \"Oh no! Your browser does not support Web Serial!\"\n",
              "      ));\n",
              "    }\n",
              "  "
            ],
            "text/plain": [
              "<IPython.core.display.Javascript object>"
            ]
          },
          "metadata": {}
        }
      ]
    },
    {
      "cell_type": "code",
      "metadata": {
        "id": "TiDFmzLLJDH4"
      },
      "source": [
        ""
      ],
      "execution_count": null,
      "outputs": []
    }
  ]
}